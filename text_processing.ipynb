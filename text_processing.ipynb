{
 "cells": [
  {
   "cell_type": "markdown",
   "metadata": {},
   "source": [
    "# Text Processing\n",
    "\n",
    "## Capturing Text Data\n",
    "\n",
    "### Plain Text"
   ]
  },
  {
   "cell_type": "code",
   "execution_count": 1,
   "metadata": {},
   "outputs": [
    {
     "name": "stdout",
     "output_type": "stream",
     "text": [
      "Hieroglyphic writing dates from c. 3000 BC, and is composed of hundreds of symbols. A hieroglyph can represent a word, a sound, or a silent determinative; and the same symbol can serve different purposes in different contexts. Hieroglyphs were a formal script, used on stone monuments and in tombs, that could be as detailed as individual works of art.\n",
      "\n"
     ]
    }
   ],
   "source": [
    "import os\n",
    "\n",
    "# Read in a plain text file\n",
    "with open(os.path.join(\"data\", \"hieroglyph.txt\"), \"r\") as f:\n",
    "    text = f.read()\n",
    "    print(text)"
   ]
  },
  {
   "cell_type": "markdown",
   "metadata": {},
   "source": [
    "### Tabular Data"
   ]
  },
  {
   "cell_type": "code",
   "execution_count": 2,
   "metadata": {
    "scrolled": true
   },
   "outputs": [
    {
     "data": {
      "text/html": [
       "<div>\n",
       "<style>\n",
       "    .dataframe thead tr:only-child th {\n",
       "        text-align: right;\n",
       "    }\n",
       "\n",
       "    .dataframe thead th {\n",
       "        text-align: left;\n",
       "    }\n",
       "\n",
       "    .dataframe tbody tr th {\n",
       "        vertical-align: top;\n",
       "    }\n",
       "</style>\n",
       "<table border=\"1\" class=\"dataframe\">\n",
       "  <thead>\n",
       "    <tr style=\"text-align: right;\">\n",
       "      <th></th>\n",
       "      <th>publisher</th>\n",
       "      <th>title</th>\n",
       "    </tr>\n",
       "  </thead>\n",
       "  <tbody>\n",
       "    <tr>\n",
       "      <th>0</th>\n",
       "      <td>Livemint</td>\n",
       "      <td>fed's charles plosser sees high bar for change...</td>\n",
       "    </tr>\n",
       "    <tr>\n",
       "      <th>1</th>\n",
       "      <td>IFA Magazine</td>\n",
       "      <td>us open: stocks fall after fed official hints ...</td>\n",
       "    </tr>\n",
       "    <tr>\n",
       "      <th>2</th>\n",
       "      <td>IFA Magazine</td>\n",
       "      <td>fed risks falling 'behind the curve', charles ...</td>\n",
       "    </tr>\n",
       "    <tr>\n",
       "      <th>3</th>\n",
       "      <td>Moneynews</td>\n",
       "      <td>fed's plosser: nasty weather has curbed job gr...</td>\n",
       "    </tr>\n",
       "    <tr>\n",
       "      <th>4</th>\n",
       "      <td>NASDAQ</td>\n",
       "      <td>plosser: fed may have to accelerate tapering pace</td>\n",
       "    </tr>\n",
       "  </tbody>\n",
       "</table>\n",
       "</div>"
      ],
      "text/plain": [
       "      publisher                                              title\n",
       "0      Livemint  fed's charles plosser sees high bar for change...\n",
       "1  IFA Magazine  us open: stocks fall after fed official hints ...\n",
       "2  IFA Magazine  fed risks falling 'behind the curve', charles ...\n",
       "3     Moneynews  fed's plosser: nasty weather has curbed job gr...\n",
       "4        NASDAQ  plosser: fed may have to accelerate tapering pace"
      ]
     },
     "execution_count": 2,
     "metadata": {},
     "output_type": "execute_result"
    }
   ],
   "source": [
    "import pandas as pd\n",
    "\n",
    "# Extract text column from a dataframe\n",
    "df = pd.read_csv(os.path.join(\"data\", \"news.csv\"))\n",
    "df.head()[['publisher', 'title']]\n",
    "\n",
    "# Convert text column to lowercase\n",
    "df['title'] = df['title'].str.lower()\n",
    "df.head()[['publisher', 'title']]"
   ]
  },
  {
   "cell_type": "markdown",
   "metadata": {},
   "source": [
    "### Online Resource"
   ]
  },
  {
   "cell_type": "code",
   "execution_count": 3,
   "metadata": {
    "scrolled": true
   },
   "outputs": [
    {
     "name": "stdout",
     "output_type": "stream",
     "text": [
      "{\n",
      "    \"success\": {\n",
      "        \"total\": 1\n",
      "    },\n",
      "    \"contents\": {\n",
      "        \"quotes\": [\n",
      "            {\n",
      "                \"quote\": \"The last time doesn't exist. It's only this time. And everything is going to be different this time. There's only now.\",\n",
      "                \"author\": \"Bill Murray\",\n",
      "                \"length\": \"118\",\n",
      "                \"tags\": [\n",
      "                    \"inspire\",\n",
      "                    \"present\"\n",
      "                ],\n",
      "                \"category\": \"inspire\",\n",
      "                \"title\": \"Inspiring Quote of the day\",\n",
      "                \"date\": \"2019-01-16\",\n",
      "                \"id\": null\n",
      "            }\n",
      "        ],\n",
      "        \"copyright\": \"2017-19 theysaidso.com\"\n",
      "    }\n",
      "}\n",
      "The last time doesn't exist. It's only this time. And everything is going to be different this time. There's only now. \n",
      "-- Bill Murray\n"
     ]
    }
   ],
   "source": [
    "import requests\n",
    "import json\n",
    "\n",
    "# Fetch data from a REST API\n",
    "r = requests.get(\n",
    "    \"https://quotes.rest/qod.json\")\n",
    "res = r.json()\n",
    "print(json.dumps(res, indent=4))\n",
    "\n",
    "# Extract relevant object and field\n",
    "q = res[\"contents\"][\"quotes\"][0]\n",
    "print(q[\"quote\"], \"\\n--\", q[\"author\"])"
   ]
  },
  {
   "cell_type": "markdown",
   "metadata": {},
   "source": [
    "## Cleaning"
   ]
  },
  {
   "cell_type": "code",
   "execution_count": 4,
   "metadata": {
    "scrolled": true
   },
   "outputs": [
    {
     "name": "stdout",
     "output_type": "stream",
     "text": [
      "<html op=\"news\"><head><meta name=\"referrer\" content=\"origin\"><meta name=\"viewport\" content=\"width=device-width, initial-scale=1.0\"><link rel=\"stylesheet\" type=\"text/css\" href=\"news.css?deOC7NuE7PCI2F2oBbNz\">\n",
      "            <link rel=\"shortcut icon\" href=\"favicon.ico\">\n",
      "          <link rel=\"alternate\" type=\"application/rss+xml\" title=\"RSS\" href=\"rss\">\n",
      "        <title>Hacker News</title></head><body><center><table id=\"hnmain\" border=\"0\" cellpadding=\"0\" cellspacing=\"0\" width=\"85%\" bgcolor=\"#f6f6ef\">\n",
      "        <tr><td bgcolor=\"#ff6600\"><table border=\"0\" cellpadding=\"0\" cellspacing=\"0\" width=\"100%\" style=\"padding:2px\"><tr><td style=\"width:18px;padding-right:4px\"><a href=\"https://news.ycombinator.com\"><img src=\"y18.gif\" width=\"18\" height=\"18\" style=\"border:1px white solid;\"></a></td>\n",
      "                  <td style=\"line-height:12pt; height:10px;\"><span class=\"pagetop\"><b class=\"hnname\"><a href=\"news\">Hacker News</a></b>\n",
      "              <a href=\"newest\">new</a> | <a href=\"newcomments\">comments</a> | <a href=\"ask\">ask</a> | <a href=\"show\">show</a> | <a href=\"jobs\">jobs</a> | <a href=\"submit\">submit</a>            </span></td><td style=\"text-align:right;padding-right:4px;\"><span class=\"pagetop\">\n",
      "                              <a href=\"login?goto=news\">login</a>\n",
      "                          </span></td>\n",
      "              </tr></table></td></tr>\n",
      "<tr id=\"pagespace\" title=\"\" style=\"height:10px\"></tr><tr><td><table border=\"0\" cellpadding=\"0\" cellspacing=\"0\" class=\"itemlist\">\n",
      "              <tr class='athing' id='18912656'>\n",
      "      <td align=\"right\" valign=\"top\" class=\"title\"><span class=\"rank\">1.</span></td>      <td valign=\"top\" class=\"votelinks\"><center><a id='up_18912656' href='vote?id=18912656&amp;how=up&amp;goto=news'><div class='votearrow' title='upvote'></div></a></center></td><td class=\"title\"><a href=\"https://spreadprivacy.com/duckduckgo-apple-mapkit-js/\" class=\"storylink\">DuckDuckGo will use Apple Maps</a><span class=\"sitebit comhead\"> (<a href=\"from?site=spreadprivacy.com\"><span class=\"sitestr\">spreadprivacy.com</span></a>)</span></td></tr><tr><td colspan=\"2\"></td><td class=\"subtext\">\n",
      "        <span class=\"score\" id=\"score_18912656\">662 points</span> by <a href=\"user?id=shritesh\" class=\"hnuser\">shritesh</a> <span class=\"age\"><a href=\"item?id=18912656\">9 hours ago</a></span> <span id=\"unv_18912656\"></span> | <a href=\"hide?id=18912656&amp;goto=news\">hide</a> | <a href=\"item?id=18912656\">316&nbsp;comments</a>              </td></tr>\n",
      "      <tr class=\"spacer\" style=\"height:5px\"></tr>\n",
      "                <tr class='athing' id='18917362'>\n",
      "      <td align=\"right\" valign=\"top\" class=\"title\"><span class=\"rank\">2.</span></td>      <td valign=\"top\" class=\"votelinks\"><center><a id='up_18917362' href='vote?id=18917362&amp;how=up&amp;goto=news'><div class='votearrow' title='upvote'></div></a></center></td><td class=\"title\"><a href=\"https://playbook.samaltman.com/\" class=\"storylink\">Startup Playbook by Sam Altman</a><span class=\"sitebit comhead\"> (<a href=\"from?site=samaltman.com\"><span class=\"sitestr\">samaltman.com</span></a>)</span></td></tr><tr><td colspan=\"2\"></td><td class=\"subtext\">\n",
      "        <span class=\"score\" id=\"score_18917362\">30 points</span> by <a href=\"user?id=navinsylvester\" class=\"hnuser\">navinsylvester</a> <span class=\"age\"><a href=\"item?id=18917362\">1 hour ago</a></span> <span id=\"unv_18917362\"></span> | <a href=\"hide?id=18917362&amp;goto=news\">hide</a> | <a href=\"item?id=18917362\">5&nbsp;comments</a>              </td></tr>\n",
      "      <tr class=\"spacer\" style=\"height:5px\"></tr>\n",
      "                <tr class='athing' id='18912628'>\n",
      "      <td align=\"right\" valign=\"top\" class=\"title\"><span class=\"rank\">3.</span></td>      <td valign=\"top\" class=\"votelinks\"><center><a id='up_18912628' href='vote?id=18912628&amp;how=up&amp;goto=news'><div class='votearrow' title='upvote'></div></a></center></td><td class=\"title\"><a href=\"https://dood.al/pinktrombone/\" class=\"storylink\">Pink Trombone</a><span class=\"sitebit comhead\"> (<a href=\"from?site=dood.al\"><span class=\"sitestr\">dood.al</span></a>)</span></td></tr><tr><td colspan=\"2\"></td><td class=\"subtext\">\n",
      "        <span class=\"score\" id=\"score_18912628\">357 points</span> by <a href=\"user?id=errozero\" class=\"hnuser\">errozero</a> <span class=\"age\"><a href=\"item?id=18912628\">9 hours ago</a></span> <span id=\"unv_18912628\"></span> | <a href=\"hide?id=18912628&amp;goto=news\">hide</a> | <a href=\"item?id=18912628\">60&nbsp;comments</a>              </td></tr>\n",
      "      <tr class=\"spacer\" style=\"height:5px\"></tr>\n",
      "                <tr class='athing' id='18915243'>\n",
      "      <td align=\"right\" valign=\"top\" class=\"title\"><span class=\"rank\">4.</span></td>      <td valign=\"top\" class=\"votelinks\"><center><a id='up_18915243' href='vote?id=18915243&amp;how=up&amp;goto=news'><div class='votearrow' title='upvote'></div></a></center></td><td class=\"title\"><a href=\"https://www.ncbi.nlm.nih.gov/pubmed/30448878\" class=\"storylink\">Consumption of a dark roast coffee blend reduces DNA damage in humans</a><span class=\"sitebit comhead\"> (<a href=\"from?site=nih.gov\"><span class=\"sitestr\">nih.gov</span></a>)</span></td></tr><tr><td colspan=\"2\"></td><td class=\"subtext\">\n",
      "        <span class=\"score\" id=\"score_18915243\">155 points</span> by <a href=\"user?id=blopeur\" class=\"hnuser\">blopeur</a> <span class=\"age\"><a href=\"item?id=18915243\">5 hours ago</a></span> <span id=\"unv_18915243\"></span> | <a href=\"hide?id=18915243&amp;goto=news\">hide</a> | <a href=\"item?id=18915243\">94&nbsp;comments</a>              </td></tr>\n",
      "      <tr class=\"spacer\" style=\"height:5px\"></tr>\n",
      "                <tr class='athing' id='18913946'>\n",
      "      <td align=\"right\" valign=\"top\" class=\"title\"><span class=\"rank\">5.</span></td>      <td valign=\"top\" class=\"votelinks\"><center><a id='up_18913946' href='vote?id=18913946&amp;how=up&amp;goto=news'><div class='votearrow' title='upvote'></div></a></center></td><td class=\"title\"><a href=\"https://algorithmsoup.wordpress.com/2019/01/15/breaking-an-unbreakable-code-part-1-the-hack/\" class=\"storylink\">An Almost-Secret Algorithm Researchers Used to Break Thousands of RSA Keys</a><span class=\"sitebit comhead\"> (<a href=\"from?site=algorithmsoup.wordpress.com\"><span class=\"sitestr\">algorithmsoup.wordpress.com</span></a>)</span></td></tr><tr><td colspan=\"2\"></td><td class=\"subtext\">\n",
      "        <span class=\"score\" id=\"score_18913946\">211 points</span> by <a href=\"user?id=williamkuszmaul\" class=\"hnuser\">williamkuszmaul</a> <span class=\"age\"><a href=\"item?id=18913946\">7 hours ago</a></span> <span id=\"unv_18913946\"></span> | <a href=\"hide?id=18913946&amp;goto=news\">hide</a> | <a href=\"item?id=18913946\">53&nbsp;comments</a>              </td></tr>\n",
      "      <tr class=\"spacer\" style=\"height:5px\"></tr>\n",
      "                <tr class='athing' id='18916542'>\n",
      "      <td align=\"right\" valign=\"top\" class=\"title\"><span class=\"rank\">6.</span></td>      <td valign=\"top\" class=\"votelinks\"><center><a id='up_18916542' href='vote?id=18916542&amp;how=up&amp;goto=news'><div class='votearrow' title='upvote'></div></a></center></td><td class=\"title\"><a href=\"https://scm.ncsu.edu/scm-articles/article/more-data-is-not-better-and-machine-learning-is-a-grind-just-ask-amazon\" class=\"storylink\">More Data Is Not Better and Machine Learning Is a Grind</a><span class=\"sitebit comhead\"> (<a href=\"from?site=ncsu.edu\"><span class=\"sitestr\">ncsu.edu</span></a>)</span></td></tr><tr><td colspan=\"2\"></td><td class=\"subtext\">\n",
      "        <span class=\"score\" id=\"score_18916542\">56 points</span> by <a href=\"user?id=sonabinu\" class=\"hnuser\">sonabinu</a> <span class=\"age\"><a href=\"item?id=18916542\">3 hours ago</a></span> <span id=\"unv_18916542\"></span> | <a href=\"hide?id=18916542&amp;goto=news\">hide</a> | <a href=\"item?id=18916542\">5&nbsp;comments</a>              </td></tr>\n",
      "      <tr class=\"spacer\" style=\"height:5px\"></tr>\n",
      "                <tr class='athing' id='18913438'>\n",
      "      <td align=\"right\" valign=\"top\" class=\"title\"><span class=\"rank\">7.</span></td>      <td valign=\"top\" class=\"votelinks\"><center><a id='up_18913438' href='vote?id=18913438&amp;how=up&amp;goto=news'><div class='votearrow' title='upvote'></div></a></center></td><td class=\"title\"><a href=\"https://techcrunch.com/2019/01/15/ahead-of-ipo-airbnb-achieves-profitability-for-second-year-in-a-row/\" class=\"storylink\">Ahead of IPO, Airbnb achieves profitability for second year in a row</a><span class=\"sitebit comhead\"> (<a href=\"from?site=techcrunch.com\"><span class=\"sitestr\">techcrunch.com</span></a>)</span></td></tr><tr><td colspan=\"2\"></td><td class=\"subtext\">\n",
      "        <span class=\"score\" id=\"score_18913438\">165 points</span> by <a href=\"user?id=pseudolus\" class=\"hnuser\">pseudolus</a> <span class=\"age\"><a href=\"item?id=18913438\">7 hours ago</a></span> <span id=\"unv_18913438\"></span> | <a href=\"hide?id=18913438&amp;goto=news\">hide</a> | <a href=\"item?id=18913438\">137&nbsp;comments</a>              </td></tr>\n",
      "      <tr class=\"spacer\" style=\"height:5px\"></tr>\n",
      "                <tr class='athing' id='18911317'>\n",
      "      <td align=\"right\" valign=\"top\" class=\"title\"><span class=\"rank\">8.</span></td>      <td valign=\"top\" class=\"votelinks\"><center><a id='up_18911317' href='vote?id=18911317&amp;how=up&amp;goto=news'><div class='votearrow' title='upvote'></div></a></center></td><td class=\"title\"><a href=\"https://plainfreelancecontract.com/\" class=\"storylink\">Show HN: Crowdsourced freelance contract template, written in plain language</a><span class=\"sitebit comhead\"> (<a href=\"from?site=plainfreelancecontract.com\"><span class=\"sitestr\">plainfreelancecontract.com</span></a>)</span></td></tr><tr><td colspan=\"2\"></td><td class=\"subtext\">\n",
      "        <span class=\"score\" id=\"score_18911317\">229 points</span> by <a href=\"user?id=jackm\" class=\"hnuser\">jackm</a> <span class=\"age\"><a href=\"item?id=18911317\">11 hours ago</a></span> <span id=\"unv_18911317\"></span> | <a href=\"hide?id=18911317&amp;goto=news\">hide</a> | <a href=\"item?id=18911317\">56&nbsp;comments</a>              </td></tr>\n",
      "      <tr class=\"spacer\" style=\"height:5px\"></tr>\n",
      "                <tr class='athing' id='18914378'>\n",
      "      <td align=\"right\" valign=\"top\" class=\"title\"><span class=\"rank\">9.</span></td>      <td valign=\"top\" class=\"votelinks\"><center><a id='up_18914378' href='vote?id=18914378&amp;how=up&amp;goto=news'><div class='votearrow' title='upvote'></div></a></center></td><td class=\"title\"><a href=\"https://www.bloomberg.com/news/articles/2019-01-13/the-next-american-car-recession-has-already-started\" class=\"storylink\">The Next American Car Recession Has Already Started</a><span class=\"sitebit comhead\"> (<a href=\"from?site=bloomberg.com\"><span class=\"sitestr\">bloomberg.com</span></a>)</span></td></tr><tr><td colspan=\"2\"></td><td class=\"subtext\">\n",
      "        <span class=\"score\" id=\"score_18914378\">31 points</span> by <a href=\"user?id=jbredeche\" class=\"hnuser\">jbredeche</a> <span class=\"age\"><a href=\"item?id=18914378\">4 hours ago</a></span> <span id=\"unv_18914378\"></span> | <a href=\"hide?id=18914378&amp;goto=news\">hide</a> | <a href=\"item?id=18914378\">34&nbsp;comments</a>              </td></tr>\n",
      "      <tr class=\"spacer\" style=\"height:5px\"></tr>\n",
      "                <tr class='athing' id='18910608'>\n",
      "      <td align=\"right\" valign=\"top\" class=\"title\"><span class=\"rank\">10.</span></td>      <td valign=\"top\" class=\"votelinks\"><center><a id='up_18910608' href='vote?id=18910608&amp;how=up&amp;goto=news'><div class='votearrow' title='upvote'></div></a></center></td><td class=\"title\"><a href=\"https://media.defense.gov/2018/Oct/09/2002049591/-1/-1/0/DIB_DETECTING_AGILE_BS_2018.10.05.PDF\" class=\"storylink\">DIB Guide: Detecting Agile BS (2018) [pdf]</a><span class=\"sitebit comhead\"> (<a href=\"from?site=defense.gov\"><span class=\"sitestr\">defense.gov</span></a>)</span></td></tr><tr><td colspan=\"2\"></td><td class=\"subtext\">\n",
      "        <span class=\"score\" id=\"score_18910608\">348 points</span> by <a href=\"user?id=nfrankel\" class=\"hnuser\">nfrankel</a> <span class=\"age\"><a href=\"item?id=18910608\">14 hours ago</a></span> <span id=\"unv_18910608\"></span> | <a href=\"hide?id=18910608&amp;goto=news\">hide</a> | <a href=\"item?id=18910608\">120&nbsp;comments</a>              </td></tr>\n",
      "      <tr class=\"spacer\" style=\"height:5px\"></tr>\n",
      "                <tr class='athing' id='18913302'>\n",
      "      <td align=\"right\" valign=\"top\" class=\"title\"><span class=\"rank\">11.</span></td>      <td valign=\"top\" class=\"votelinks\"><center><a id='up_18913302' href='vote?id=18913302&amp;how=up&amp;goto=news'><div class='votearrow' title='upvote'></div></a></center></td><td class=\"title\"><a href=\"https://reubenbond.github.io/posts/dotnet-perf-tuning\" class=\"storylink\">Performance Tuning for .NET Core</a><span class=\"sitebit comhead\"> (<a href=\"from?site=reubenbond.github.io\"><span class=\"sitestr\">reubenbond.github.io</span></a>)</span></td></tr><tr><td colspan=\"2\"></td><td class=\"subtext\">\n",
      "        <span class=\"score\" id=\"score_18913302\">124 points</span> by <a href=\"user?id=benaadams\" class=\"hnuser\">benaadams</a> <span class=\"age\"><a href=\"item?id=18913302\">8 hours ago</a></span> <span id=\"unv_18913302\"></span> | <a href=\"hide?id=18913302&amp;goto=news\">hide</a> | <a href=\"item?id=18913302\">59&nbsp;comments</a>              </td></tr>\n",
      "      <tr class=\"spacer\" style=\"height:5px\"></tr>\n",
      "                <tr class='athing' id='18911940'>\n",
      "      <td align=\"right\" valign=\"top\" class=\"title\"><span class=\"rank\">12.</span></td>      <td valign=\"top\" class=\"votelinks\"><center><a id='up_18911940' href='vote?id=18911940&amp;how=up&amp;goto=news'><div class='votearrow' title='upvote'></div></a></center></td><td class=\"title\"><a href=\"http://blog.fogus.me/2012/07/25/some-lisp-books-and-then-some/\" class=\"storylink\">Some Lisp books (2012)</a><span class=\"sitebit comhead\"> (<a href=\"from?site=fogus.me\"><span class=\"sitestr\">fogus.me</span></a>)</span></td></tr><tr><td colspan=\"2\"></td><td class=\"subtext\">\n",
      "        <span class=\"score\" id=\"score_18911940\">152 points</span> by <a href=\"user?id=deepaksurti\" class=\"hnuser\">deepaksurti</a> <span class=\"age\"><a href=\"item?id=18911940\">10 hours ago</a></span> <span id=\"unv_18911940\"></span> | <a href=\"hide?id=18911940&amp;goto=news\">hide</a> | <a href=\"item?id=18911940\">17&nbsp;comments</a>              </td></tr>\n",
      "      <tr class=\"spacer\" style=\"height:5px\"></tr>\n",
      "                <tr class='athing' id='18914471'>\n",
      "      <td align=\"right\" valign=\"top\" class=\"title\"><span class=\"rank\">13.</span></td>      <td valign=\"top\" class=\"votelinks\"><center><a id='up_18914471' href='vote?id=18914471&amp;how=up&amp;goto=news'><div class='votearrow' title='upvote'></div></a></center></td><td class=\"title\"><a href=\"https://lareviewofbooks.org/article/thieves-of-experience-how-google-and-facebook-corrupted-capitalism/\" class=\"storylink\">Thieves of Experience: How Google and Facebook Corrupted Capitalism</a><span class=\"sitebit comhead\"> (<a href=\"from?site=lareviewofbooks.org\"><span class=\"sitestr\">lareviewofbooks.org</span></a>)</span></td></tr><tr><td colspan=\"2\"></td><td class=\"subtext\">\n",
      "        <span class=\"score\" id=\"score_18914471\">130 points</span> by <a href=\"user?id=exejeezus\" class=\"hnuser\">exejeezus</a> <span class=\"age\"><a href=\"item?id=18914471\">6 hours ago</a></span> <span id=\"unv_18914471\"></span> | <a href=\"hide?id=18914471&amp;goto=news\">hide</a> | <a href=\"item?id=18914471\">98&nbsp;comments</a>              </td></tr>\n",
      "      <tr class=\"spacer\" style=\"height:5px\"></tr>\n",
      "                <tr class='athing' id='18913955'>\n",
      "      <td align=\"right\" valign=\"top\" class=\"title\"><span class=\"rank\">14.</span></td>      <td valign=\"top\" class=\"votelinks\"><center><a id='up_18913955' href='vote?id=18913955&amp;how=up&amp;goto=news'><div class='votearrow' title='upvote'></div></a></center></td><td class=\"title\"><a href=\"https://lwn.net/SubscriberLink/776327/e0cf49b9b9976c5a/\" class=\"storylink\">Fedora, UUIDs, and user tracking</a><span class=\"sitebit comhead\"> (<a href=\"from?site=lwn.net\"><span class=\"sitestr\">lwn.net</span></a>)</span></td></tr><tr><td colspan=\"2\"></td><td class=\"subtext\">\n",
      "        <span class=\"score\" id=\"score_18913955\">92 points</span> by <a href=\"user?id=tlburke\" class=\"hnuser\">tlburke</a> <span class=\"age\"><a href=\"item?id=18913955\">7 hours ago</a></span> <span id=\"unv_18913955\"></span> | <a href=\"hide?id=18913955&amp;goto=news\">hide</a> | <a href=\"item?id=18913955\">48&nbsp;comments</a>              </td></tr>\n",
      "      <tr class=\"spacer\" style=\"height:5px\"></tr>\n",
      "                <tr class='athing' id='18908843'>\n",
      "      <td align=\"right\" valign=\"top\" class=\"title\"><span class=\"rank\">15.</span></td>      <td valign=\"top\" class=\"votelinks\"><center><a id='up_18908843' href='vote?id=18908843&amp;how=up&amp;goto=news'><div class='votearrow' title='upvote'></div></a></center></td><td class=\"title\"><a href=\"https://medium.com/@daniel.p.woods/on-infrastructure-at-scale-a-cascading-failure-of-distributed-systems-7cff2a3cd2df\" class=\"storylink\" rel=\"nofollow\">On Infrastructure at Scale: A Cascading Failure of Distributed Systems</a><span class=\"sitebit comhead\"> (<a href=\"from?site=medium.com\"><span class=\"sitestr\">medium.com</span></a>)</span></td></tr><tr><td colspan=\"2\"></td><td class=\"subtext\">\n",
      "        <span class=\"score\" id=\"score_18908843\">8 points</span> by <a href=\"user?id=aberoham\" class=\"hnuser\">aberoham</a> <span class=\"age\"><a href=\"item?id=18908843\">1 hour ago</a></span> <span id=\"unv_18908843\"></span> | <a href=\"hide?id=18908843&amp;goto=news\">hide</a> | <a href=\"item?id=18908843\">discuss</a>              </td></tr>\n",
      "      <tr class=\"spacer\" style=\"height:5px\"></tr>\n",
      "                <tr class='athing' id='18916513'>\n",
      "      <td align=\"right\" valign=\"top\" class=\"title\"><span class=\"rank\">16.</span></td>      <td valign=\"top\" class=\"votelinks\"><center><a id='up_18916513' href='vote?id=18916513&amp;how=up&amp;goto=news'><div class='votearrow' title='upvote'></div></a></center></td><td class=\"title\"><a href=\"https://techcrunch.com/2019/01/15/snap-cfo-tim-stone-is-resigning/\" class=\"storylink\">Snap CFO Tim Stone Is Resigning</a><span class=\"sitebit comhead\"> (<a href=\"from?site=techcrunch.com\"><span class=\"sitestr\">techcrunch.com</span></a>)</span></td></tr><tr><td colspan=\"2\"></td><td class=\"subtext\">\n",
      "        <span class=\"score\" id=\"score_18916513\">68 points</span> by <a href=\"user?id=cribbles\" class=\"hnuser\">cribbles</a> <span class=\"age\"><a href=\"item?id=18916513\">3 hours ago</a></span> <span id=\"unv_18916513\"></span> | <a href=\"hide?id=18916513&amp;goto=news\">hide</a> | <a href=\"item?id=18916513\">38&nbsp;comments</a>              </td></tr>\n",
      "      <tr class=\"spacer\" style=\"height:5px\"></tr>\n",
      "                <tr class='athing' id='18914086'>\n",
      "      <td align=\"right\" valign=\"top\" class=\"title\"><span class=\"rank\">17.</span></td>      <td valign=\"top\" class=\"votelinks\"><center><a id='up_18914086' href='vote?id=18914086&amp;how=up&amp;goto=news'><div class='votearrow' title='upvote'></div></a></center></td><td class=\"title\"><a href=\"https://www.datacoalition.org/press-releases/president-signs-government-wide-open-data-bill/\" class=\"storylink\">President Signs Government-Wide Open Data Bill</a><span class=\"sitebit comhead\"> (<a href=\"from?site=datacoalition.org\"><span class=\"sitestr\">datacoalition.org</span></a>)</span></td></tr><tr><td colspan=\"2\"></td><td class=\"subtext\">\n",
      "        <span class=\"score\" id=\"score_18914086\">203 points</span> by <a href=\"user?id=rmason\" class=\"hnuser\">rmason</a> <span class=\"age\"><a href=\"item?id=18914086\">6 hours ago</a></span> <span id=\"unv_18914086\"></span> | <a href=\"hide?id=18914086&amp;goto=news\">hide</a> | <a href=\"item?id=18914086\">86&nbsp;comments</a>              </td></tr>\n",
      "      <tr class=\"spacer\" style=\"height:5px\"></tr>\n",
      "                <tr class='athing' id='18914411'>\n",
      "      <td align=\"right\" valign=\"top\" class=\"title\"><span class=\"rank\">18.</span></td>      <td valign=\"top\" class=\"votelinks\"><center><a id='up_18914411' href='vote?id=18914411&amp;how=up&amp;goto=news'><div class='votearrow' title='upvote'></div></a></center></td><td class=\"title\"><a href=\"https://www.nytimes.com/2019/01/15/world/europe/brexit-vote-theresa-may.html\" class=\"storylink\">Brexit Deal Fails in Parliament</a><span class=\"sitebit comhead\"> (<a href=\"from?site=nytimes.com\"><span class=\"sitestr\">nytimes.com</span></a>)</span></td></tr><tr><td colspan=\"2\"></td><td class=\"subtext\">\n",
      "        <span class=\"score\" id=\"score_18914411\">510 points</span> by <a href=\"user?id=johnny313\" class=\"hnuser\">johnny313</a> <span class=\"age\"><a href=\"item?id=18914411\">6 hours ago</a></span> <span id=\"unv_18914411\"></span> | <a href=\"hide?id=18914411&amp;goto=news\">hide</a> | <a href=\"item?id=18914411\">683&nbsp;comments</a>              </td></tr>\n",
      "      <tr class=\"spacer\" style=\"height:5px\"></tr>\n",
      "                <tr class='athing' id='18915230'>\n",
      "      <td align=\"right\" valign=\"top\" class=\"title\"><span class=\"rank\">19.</span></td>      <td valign=\"top\" class=\"votelinks\"><center><a id='up_18915230' href='vote?id=18915230&amp;how=up&amp;goto=news'><div class='votearrow' title='upvote'></div></a></center></td><td class=\"title\"><a href=\"https://techcrunch.com/2019/01/15/gbatteries-let-you-charge-your-car-as-quickly-as-visiting-the-pump/\" class=\"storylink\">GBatteries (YC W14) let you charge your car as quickly as visiting the pump</a><span class=\"sitebit comhead\"> (<a href=\"from?site=techcrunch.com\"><span class=\"sitestr\">techcrunch.com</span></a>)</span></td></tr><tr><td colspan=\"2\"></td><td class=\"subtext\">\n",
      "        <span class=\"score\" id=\"score_18915230\">38 points</span> by <a href=\"user?id=mikek\" class=\"hnuser\">mikek</a> <span class=\"age\"><a href=\"item?id=18915230\">5 hours ago</a></span> <span id=\"unv_18915230\"></span> | <a href=\"hide?id=18915230&amp;goto=news\">hide</a> | <a href=\"item?id=18915230\">57&nbsp;comments</a>              </td></tr>\n",
      "      <tr class=\"spacer\" style=\"height:5px\"></tr>\n",
      "                <tr class='athing' id='18912182'>\n",
      "      <td align=\"right\" valign=\"top\" class=\"title\"><span class=\"rank\">20.</span></td>      <td valign=\"top\" class=\"votelinks\"><center><a id='up_18912182' href='vote?id=18912182&amp;how=up&amp;goto=news'><div class='votearrow' title='upvote'></div></a></center></td><td class=\"title\"><a href=\"https://developer.amazon.com/blogs/alexa/post/a7bb4a16-c86b-4019-b3f9-b0d663b87d30/new-method-for-compressing-neural-networks-better-preserves-accuracy#\" class=\"storylink\">New Method for Compressing Neural Networks Better Preserves Accuracy</a><span class=\"sitebit comhead\"> (<a href=\"from?site=amazon.com\"><span class=\"sitestr\">amazon.com</span></a>)</span></td></tr><tr><td colspan=\"2\"></td><td class=\"subtext\">\n",
      "        <span class=\"score\" id=\"score_18912182\">86 points</span> by <a href=\"user?id=georgecarlyle76\" class=\"hnuser\">georgecarlyle76</a> <span class=\"age\"><a href=\"item?id=18912182\">10 hours ago</a></span> <span id=\"unv_18912182\"></span> | <a href=\"hide?id=18912182&amp;goto=news\">hide</a> | <a href=\"item?id=18912182\">19&nbsp;comments</a>              </td></tr>\n",
      "      <tr class=\"spacer\" style=\"height:5px\"></tr>\n",
      "                <tr class='athing' id='18913792'>\n",
      "      <td align=\"right\" valign=\"top\" class=\"title\"><span class=\"rank\">21.</span></td>      <td valign=\"top\" class=\"votelinks\"><center><a id='up_18913792' href='vote?id=18913792&amp;how=up&amp;goto=news'><div class='votearrow' title='upvote'></div></a></center></td><td class=\"title\"><a href=\"https://www.selectsoftwarereviews.com/blog/2018/12/31/the-intrinsic-value-of-a-saas-business-a-20-year-dcf\" class=\"storylink\">Intrinsic Value of a SaaS Business: A 20 Year DCF</a><span class=\"sitebit comhead\"> (<a href=\"from?site=selectsoftwarereviews.com\"><span class=\"sitestr\">selectsoftwarereviews.com</span></a>)</span></td></tr><tr><td colspan=\"2\"></td><td class=\"subtext\">\n",
      "        <span class=\"score\" id=\"score_18913792\">61 points</span> by <a href=\"user?id=pstrazzulla\" class=\"hnuser\">pstrazzulla</a> <span class=\"age\"><a href=\"item?id=18913792\">7 hours ago</a></span> <span id=\"unv_18913792\"></span> | <a href=\"hide?id=18913792&amp;goto=news\">hide</a> | <a href=\"item?id=18913792\">23&nbsp;comments</a>              </td></tr>\n",
      "      <tr class=\"spacer\" style=\"height:5px\"></tr>\n",
      "                <tr class='athing' id='18910290'>\n",
      "      <td align=\"right\" valign=\"top\" class=\"title\"><span class=\"rank\">22.</span></td>      <td valign=\"top\" class=\"votelinks\"><center><a id='up_18910290' href='vote?id=18910290&amp;how=up&amp;goto=news'><div class='votearrow' title='upvote'></div></a></center></td><td class=\"title\"><a href=\"https://www.lifepim.com/blog/5856_What_software_will_you_trust_when_you_get_senile\" class=\"storylink\">What software will you trust when you get senile?</a><span class=\"sitebit comhead\"> (<a href=\"from?site=lifepim.com\"><span class=\"sitestr\">lifepim.com</span></a>)</span></td></tr><tr><td colspan=\"2\"></td><td class=\"subtext\">\n",
      "        <span class=\"score\" id=\"score_18910290\">115 points</span> by <a href=\"user?id=acutesoftware\" class=\"hnuser\">acutesoftware</a> <span class=\"age\"><a href=\"item?id=18910290\">12 hours ago</a></span> <span id=\"unv_18910290\"></span> | <a href=\"hide?id=18910290&amp;goto=news\">hide</a> | <a href=\"item?id=18910290\">103&nbsp;comments</a>              </td></tr>\n",
      "      <tr class=\"spacer\" style=\"height:5px\"></tr>\n",
      "                <tr class='athing' id='18912384'>\n",
      "      <td align=\"right\" valign=\"top\" class=\"title\"><span class=\"rank\">23.</span></td>      <td valign=\"top\" class=\"votelinks\"><center><a id='up_18912384' href='vote?id=18912384&amp;how=up&amp;goto=news'><div class='votearrow' title='upvote'></div></a></center></td><td class=\"title\"><a href=\"https://github.com/baidu/openedge\" class=\"storylink\">OpenEdge – Extend cloud computing, data and service to edge devices</a><span class=\"sitebit comhead\"> (<a href=\"from?site=github.com\"><span class=\"sitestr\">github.com</span></a>)</span></td></tr><tr><td colspan=\"2\"></td><td class=\"subtext\">\n",
      "        <span class=\"score\" id=\"score_18912384\">70 points</span> by <a href=\"user?id=blopeur\" class=\"hnuser\">blopeur</a> <span class=\"age\"><a href=\"item?id=18912384\">9 hours ago</a></span> <span id=\"unv_18912384\"></span> | <a href=\"hide?id=18912384&amp;goto=news\">hide</a> | <a href=\"item?id=18912384\">9&nbsp;comments</a>              </td></tr>\n",
      "      <tr class=\"spacer\" style=\"height:5px\"></tr>\n",
      "                <tr class='athing' id='18916481'>\n",
      "      <td align=\"right\" valign=\"top\" class=\"title\"><span class=\"rank\">24.</span></td>      <td valign=\"top\" class=\"votelinks\"><center><a id='up_18916481' href='vote?id=18916481&amp;how=up&amp;goto=news'><div class='votearrow' title='upvote'></div></a></center></td><td class=\"title\"><a href=\"http://sdbr.net/de-suckafying-apples-butterfly-keyboard/\" class=\"storylink\">De-Suckafying Apple’s Butterfly Keyboard</a><span class=\"sitebit comhead\"> (<a href=\"from?site=sdbr.net\"><span class=\"sitestr\">sdbr.net</span></a>)</span></td></tr><tr><td colspan=\"2\"></td><td class=\"subtext\">\n",
      "        <span class=\"score\" id=\"score_18916481\">36 points</span> by <a href=\"user?id=x0054\" class=\"hnuser\">x0054</a> <span class=\"age\"><a href=\"item?id=18916481\">3 hours ago</a></span> <span id=\"unv_18916481\"></span> | <a href=\"hide?id=18916481&amp;goto=news\">hide</a> | <a href=\"item?id=18916481\">53&nbsp;comments</a>              </td></tr>\n",
      "      <tr class=\"spacer\" style=\"height:5px\"></tr>\n",
      "                <tr class='athing' id='18916856'>\n",
      "      <td align=\"right\" valign=\"top\" class=\"title\"><span class=\"rank\">25.</span></td>      <td></td><td class=\"title\"><a href=\"https://mux.workable.com/j/3FE077B34C\" class=\"storylink\" rel=\"nofollow\">Mux is hiring a Site Reliability Engineer to build cloud video infrastructure</a><span class=\"sitebit comhead\"> (<a href=\"from?site=workable.com\"><span class=\"sitestr\">workable.com</span></a>)</span></td></tr><tr><td colspan=\"2\"></td><td class=\"subtext\">\n",
      "        <span class=\"age\"><a href=\"item?id=18916856\">2 hours ago</a></span> | <a href=\"hide?id=18916856&amp;goto=news\">hide</a>      </td></tr>\n",
      "      <tr class=\"spacer\" style=\"height:5px\"></tr>\n",
      "                <tr class='athing' id='18914273'>\n",
      "      <td align=\"right\" valign=\"top\" class=\"title\"><span class=\"rank\">26.</span></td>      <td valign=\"top\" class=\"votelinks\"><center><a id='up_18914273' href='vote?id=18914273&amp;how=up&amp;goto=news'><div class='votearrow' title='upvote'></div></a></center></td><td class=\"title\"><a href=\"https://wordsandbuttons.online/the_simplest_possible_smooth_contouring_algorithm.html\" class=\"storylink\">Simplest possible smooth contouring algorithm</a><span class=\"sitebit comhead\"> (<a href=\"from?site=wordsandbuttons.online\"><span class=\"sitestr\">wordsandbuttons.online</span></a>)</span></td></tr><tr><td colspan=\"2\"></td><td class=\"subtext\">\n",
      "        <span class=\"score\" id=\"score_18914273\">35 points</span> by <a href=\"user?id=okaleniuk\" class=\"hnuser\">okaleniuk</a> <span class=\"age\"><a href=\"item?id=18914273\">6 hours ago</a></span> <span id=\"unv_18914273\"></span> | <a href=\"hide?id=18914273&amp;goto=news\">hide</a> | <a href=\"item?id=18914273\">4&nbsp;comments</a>              </td></tr>\n",
      "      <tr class=\"spacer\" style=\"height:5px\"></tr>\n",
      "                <tr class='athing' id='18912522'>\n",
      "      <td align=\"right\" valign=\"top\" class=\"title\"><span class=\"rank\">27.</span></td>      <td valign=\"top\" class=\"votelinks\"><center><a id='up_18912522' href='vote?id=18912522&amp;how=up&amp;goto=news'><div class='votearrow' title='upvote'></div></a></center></td><td class=\"title\"><a href=\"https://cloud.google.com/blog/products/devops-sre/canary-analysis-lessons-learned-and-best-practices-from-google-and-waze\" class=\"storylink\">Canary analysis: Lessons learned and best practices from Google and Waze</a><span class=\"sitebit comhead\"> (<a href=\"from?site=cloud.google.com\"><span class=\"sitestr\">cloud.google.com</span></a>)</span></td></tr><tr><td colspan=\"2\"></td><td class=\"subtext\">\n",
      "        <span class=\"score\" id=\"score_18912522\">80 points</span> by <a href=\"user?id=Daviey\" class=\"hnuser\">Daviey</a> <span class=\"age\"><a href=\"item?id=18912522\">9 hours ago</a></span> <span id=\"unv_18912522\"></span> | <a href=\"hide?id=18912522&amp;goto=news\">hide</a> | <a href=\"item?id=18912522\">12&nbsp;comments</a>              </td></tr>\n",
      "      <tr class=\"spacer\" style=\"height:5px\"></tr>\n",
      "                <tr class='athing' id='18915782'>\n",
      "      <td align=\"right\" valign=\"top\" class=\"title\"><span class=\"rank\">28.</span></td>      <td valign=\"top\" class=\"votelinks\"><center><a id='up_18915782' href='vote?id=18915782&amp;how=up&amp;goto=news'><div class='votearrow' title='upvote'></div></a></center></td><td class=\"title\"><a href=\"https://blog.ethereum.org/2019/01/15/security-alert-ethereum-constantinople-postponement/\" class=\"storylink\">Security Alert: Ethereum Constantinople Postponement</a><span class=\"sitebit comhead\"> (<a href=\"from?site=ethereum.org\"><span class=\"sitestr\">ethereum.org</span></a>)</span></td></tr><tr><td colspan=\"2\"></td><td class=\"subtext\">\n",
      "        <span class=\"score\" id=\"score_18915782\">44 points</span> by <a href=\"user?id=Jhsto\" class=\"hnuser\">Jhsto</a> <span class=\"age\"><a href=\"item?id=18915782\">4 hours ago</a></span> <span id=\"unv_18915782\"></span> | <a href=\"hide?id=18915782&amp;goto=news\">hide</a> | <a href=\"item?id=18915782\">16&nbsp;comments</a>              </td></tr>\n",
      "      <tr class=\"spacer\" style=\"height:5px\"></tr>\n",
      "                <tr class='athing' id='18914089'>\n",
      "      <td align=\"right\" valign=\"top\" class=\"title\"><span class=\"rank\">29.</span></td>      <td valign=\"top\" class=\"votelinks\"><center><a id='up_18914089' href='vote?id=18914089&amp;how=up&amp;goto=news'><div class='votearrow' title='upvote'></div></a></center></td><td class=\"title\"><a href=\"https://www.scientificamerican.com/article/climate-concerns-are-pushing-oil-majors-to-look-beyond-fossil-fuels/\" class=\"storylink\">Climate Concerns Are Pushing Oil Majors to Look Beyond Fossil Fuels</a><span class=\"sitebit comhead\"> (<a href=\"from?site=scientificamerican.com\"><span class=\"sitestr\">scientificamerican.com</span></a>)</span></td></tr><tr><td colspan=\"2\"></td><td class=\"subtext\">\n",
      "        <span class=\"score\" id=\"score_18914089\">75 points</span> by <a href=\"user?id=oblib\" class=\"hnuser\">oblib</a> <span class=\"age\"><a href=\"item?id=18914089\">6 hours ago</a></span> <span id=\"unv_18914089\"></span> | <a href=\"hide?id=18914089&amp;goto=news\">hide</a> | <a href=\"item?id=18914089\">42&nbsp;comments</a>              </td></tr>\n",
      "      <tr class=\"spacer\" style=\"height:5px\"></tr>\n",
      "                <tr class='athing' id='18910334'>\n",
      "      <td align=\"right\" valign=\"top\" class=\"title\"><span class=\"rank\">30.</span></td>      <td valign=\"top\" class=\"votelinks\"><center><a id='up_18910334' href='vote?id=18910334&amp;how=up&amp;goto=news'><div class='votearrow' title='upvote'></div></a></center></td><td class=\"title\"><a href=\"https://security.ias.edu/deep-packet-inspection-dead-and-heres-why\" class=\"storylink\">Deep packet inspection is dead, and here's why (2017)</a><span class=\"sitebit comhead\"> (<a href=\"from?site=ias.edu\"><span class=\"sitestr\">ias.edu</span></a>)</span></td></tr><tr><td colspan=\"2\"></td><td class=\"subtext\">\n",
      "        <span class=\"score\" id=\"score_18910334\">137 points</span> by <a href=\"user?id=ogig\" class=\"hnuser\">ogig</a> <span class=\"age\"><a href=\"item?id=18910334\">14 hours ago</a></span> <span id=\"unv_18910334\"></span> | <a href=\"hide?id=18910334&amp;goto=news\">hide</a> | <a href=\"item?id=18910334\">108&nbsp;comments</a>              </td></tr>\n",
      "      <tr class=\"spacer\" style=\"height:5px\"></tr>\n",
      "            <tr class=\"morespace\" style=\"height:10px\"></tr><tr><td colspan=\"2\"></td><td class=\"title\"><a href=\"news?p=2\" class=\"morelink\" rel=\"nofollow\">More</a></td></tr>\n",
      "  </table>\n",
      "</td></tr>\n",
      "<tr><td><img src=\"s.gif\" height=\"10\" width=\"0\"><table width=\"100%\" cellspacing=\"0\" cellpadding=\"1\"><tr><td bgcolor=\"#ff6600\"></td></tr></table><br><center><span class=\"yclinks\"><a href=\"newsguidelines.html\">Guidelines</a>\n",
      "        | <a href=\"newsfaq.html\">FAQ</a>\n",
      "        | <a href=\"mailto:hn@ycombinator.com\">Support</a>\n",
      "        | <a href=\"https://github.com/HackerNews/API\">API</a>\n",
      "        | <a href=\"security.html\">Security</a>\n",
      "        | <a href=\"lists\">Lists</a>\n",
      "        | <a href=\"bookmarklet.html\" rel=\"nofollow\">Bookmarklet</a>\n",
      "        | <a href=\"http://www.ycombinator.com/legal/\">Legal</a>\n",
      "        | <a href=\"http://www.ycombinator.com/apply/\">Apply to YC</a>\n",
      "        | <a href=\"mailto:hn@ycombinator.com\">Contact</a></span><br><br><form method=\"get\" action=\"//hn.algolia.com/\">Search:\n",
      "          <input type=\"text\" name=\"q\" value=\"\" size=\"17\" autocorrect=\"off\" spellcheck=\"false\" autocapitalize=\"off\" autocomplete=\"false\"></form>\n",
      "            </center></td></tr>\n",
      "      </table></center></body><script type='text/javascript' src='hn.js?deOC7NuE7PCI2F2oBbNz'></script>\n",
      "  </html>\n",
      "\n"
     ]
    }
   ],
   "source": [
    "import requests\n",
    "\n",
    "# Fetch a web page\n",
    "r = requests.get(\"https://news.ycombinator.com\")\n",
    "print(r.text)"
   ]
  },
  {
   "cell_type": "code",
   "execution_count": 5,
   "metadata": {},
   "outputs": [
    {
     "name": "stdout",
     "output_type": "stream",
     "text": [
      "\n",
      "            \n",
      "          \n",
      "        Hacker News\n",
      "        \n",
      "                  Hacker News\n",
      "              new | comments | ask | show | jobs | submit            \n",
      "                              login\n",
      "                          \n",
      "              \n",
      "\n",
      "              \n",
      "      1.      DuckDuckGo will use Apple Maps (spreadprivacy.com)\n",
      "        662 points by shritesh 9 hours ago  | hide | 316&nbsp;comments              \n",
      "      \n",
      "                \n",
      "      2.      Startup Playbook by Sam Altman (samaltman.com)\n",
      "        30 points by navinsylvester 1 hour ago  | hide | 5&nbsp;comments              \n",
      "      \n",
      "                \n",
      "      3.      Pink Trombone (dood.al)\n",
      "        357 points by errozero 9 hours ago  | hide | 60&nbsp;comments              \n",
      "      \n",
      "                \n",
      "      4.      Consumption of a dark roast coffee blend reduces DNA damage in humans (nih.gov)\n",
      "        155 points by blopeur 5 hours ago  | hide | 94&nbsp;comments              \n",
      "      \n",
      "                \n",
      "      5.      An Almost-Secret Algorithm Researchers Used to Break Thousands of RSA Keys (algorithmsoup.wordpress.com)\n",
      "        211 points by williamkuszmaul 7 hours ago  | hide | 53&nbsp;comments              \n",
      "      \n",
      "                \n",
      "      6.      More Data Is Not Better and Machine Learning Is a Grind (ncsu.edu)\n",
      "        56 points by sonabinu 3 hours ago  | hide | 5&nbsp;comments              \n",
      "      \n",
      "                \n",
      "      7.      Ahead of IPO, Airbnb achieves profitability for second year in a row (techcrunch.com)\n",
      "        165 points by pseudolus 7 hours ago  | hide | 137&nbsp;comments              \n",
      "      \n",
      "                \n",
      "      8.      Show HN: Crowdsourced freelance contract template, written in plain language (plainfreelancecontract.com)\n",
      "        229 points by jackm 11 hours ago  | hide | 56&nbsp;comments              \n",
      "      \n",
      "                \n",
      "      9.      The Next American Car Recession Has Already Started (bloomberg.com)\n",
      "        31 points by jbredeche 4 hours ago  | hide | 34&nbsp;comments              \n",
      "      \n",
      "                \n",
      "      10.      DIB Guide: Detecting Agile BS (2018) [pdf] (defense.gov)\n",
      "        348 points by nfrankel 14 hours ago  | hide | 120&nbsp;comments              \n",
      "      \n",
      "                \n",
      "      11.      Performance Tuning for .NET Core (reubenbond.github.io)\n",
      "        124 points by benaadams 8 hours ago  | hide | 59&nbsp;comments              \n",
      "      \n",
      "                \n",
      "      12.      Some Lisp books (2012) (fogus.me)\n",
      "        152 points by deepaksurti 10 hours ago  | hide | 17&nbsp;comments              \n",
      "      \n",
      "                \n",
      "      13.      Thieves of Experience: How Google and Facebook Corrupted Capitalism (lareviewofbooks.org)\n",
      "        130 points by exejeezus 6 hours ago  | hide | 98&nbsp;comments              \n",
      "      \n",
      "                \n",
      "      14.      Fedora, UUIDs, and user tracking (lwn.net)\n",
      "        92 points by tlburke 7 hours ago  | hide | 48&nbsp;comments              \n",
      "      \n",
      "                \n",
      "      15.      On Infrastructure at Scale: A Cascading Failure of Distributed Systems (medium.com)\n",
      "        8 points by aberoham 1 hour ago  | hide | discuss              \n",
      "      \n",
      "                \n",
      "      16.      Snap CFO Tim Stone Is Resigning (techcrunch.com)\n",
      "        68 points by cribbles 3 hours ago  | hide | 38&nbsp;comments              \n",
      "      \n",
      "                \n",
      "      17.      President Signs Government-Wide Open Data Bill (datacoalition.org)\n",
      "        203 points by rmason 6 hours ago  | hide | 86&nbsp;comments              \n",
      "      \n",
      "                \n",
      "      18.      Brexit Deal Fails in Parliament (nytimes.com)\n",
      "        510 points by johnny313 6 hours ago  | hide | 683&nbsp;comments              \n",
      "      \n",
      "                \n",
      "      19.      GBatteries (YC W14) let you charge your car as quickly as visiting the pump (techcrunch.com)\n",
      "        38 points by mikek 5 hours ago  | hide | 57&nbsp;comments              \n",
      "      \n",
      "                \n",
      "      20.      New Method for Compressing Neural Networks Better Preserves Accuracy (amazon.com)\n",
      "        86 points by georgecarlyle76 10 hours ago  | hide | 19&nbsp;comments              \n",
      "      \n",
      "                \n",
      "      21.      Intrinsic Value of a SaaS Business: A 20 Year DCF (selectsoftwarereviews.com)\n",
      "        61 points by pstrazzulla 7 hours ago  | hide | 23&nbsp;comments              \n",
      "      \n",
      "                \n",
      "      22.      What software will you trust when you get senile? (lifepim.com)\n",
      "        115 points by acutesoftware 12 hours ago  | hide | 103&nbsp;comments              \n",
      "      \n",
      "                \n",
      "      23.      OpenEdge – Extend cloud computing, data and service to edge devices (github.com)\n",
      "        70 points by blopeur 9 hours ago  | hide | 9&nbsp;comments              \n",
      "      \n",
      "                \n",
      "      24.      De-Suckafying Apple’s Butterfly Keyboard (sdbr.net)\n",
      "        36 points by x0054 3 hours ago  | hide | 53&nbsp;comments              \n",
      "      \n",
      "                \n",
      "      25.      Mux is hiring a Site Reliability Engineer to build cloud video infrastructure (workable.com)\n",
      "        2 hours ago | hide      \n",
      "      \n",
      "                \n",
      "      26.      Simplest possible smooth contouring algorithm (wordsandbuttons.online)\n",
      "        35 points by okaleniuk 6 hours ago  | hide | 4&nbsp;comments              \n",
      "      \n",
      "                \n",
      "      27.      Canary analysis: Lessons learned and best practices from Google and Waze (cloud.google.com)\n",
      "        80 points by Daviey 9 hours ago  | hide | 12&nbsp;comments              \n",
      "      \n",
      "                \n",
      "      28.      Security Alert: Ethereum Constantinople Postponement (ethereum.org)\n",
      "        44 points by Jhsto 4 hours ago  | hide | 16&nbsp;comments              \n",
      "      \n",
      "                \n",
      "      29.      Climate Concerns Are Pushing Oil Majors to Look Beyond Fossil Fuels (scientificamerican.com)\n",
      "        75 points by oblib 6 hours ago  | hide | 42&nbsp;comments              \n",
      "      \n",
      "                \n",
      "      30.      Deep packet inspection is dead, and here's why (2017) (ias.edu)\n",
      "        137 points by ogig 14 hours ago  | hide | 108&nbsp;comments              \n",
      "      \n",
      "            More\n",
      "  \n",
      "\n",
      "Guidelines\n",
      "        | FAQ\n",
      "        | Support\n",
      "        | API\n",
      "        | Security\n",
      "        | Lists\n",
      "        | Bookmarklet\n",
      "        | Legal\n",
      "        | Apply to YC\n",
      "        | ContactSearch:\n",
      "          \n",
      "            \n",
      "      \n",
      "  \n",
      "\n"
     ]
    }
   ],
   "source": [
    "import re\n",
    "\n",
    "# Remove HTML tags using RegEx\n",
    "pattern = re.compile(r'<.*?>')  # tags look like <...>\n",
    "print(pattern.sub('', r.text))  # replace them with blank"
   ]
  },
  {
   "cell_type": "code",
   "execution_count": 6,
   "metadata": {},
   "outputs": [
    {
     "name": "stdout",
     "output_type": "stream",
     "text": [
      "\n",
      "            \n",
      "          \n",
      "        Hacker News\n",
      "        \n",
      "                  Hacker News\n",
      "              new | comments | ask | show | jobs | submit            \n",
      "                              login\n",
      "                          \n",
      "              \n",
      "\n",
      "              \n",
      "      1.      DuckDuckGo will use Apple Maps (spreadprivacy.com)\n",
      "        662 points by shritesh 9 hours ago  | hide | 316 comments              \n",
      "      \n",
      "                \n",
      "      2.      Startup Playbook by Sam Altman (samaltman.com)\n",
      "        30 points by navinsylvester 1 hour ago  | hide | 5 comments              \n",
      "      \n",
      "                \n",
      "      3.      Pink Trombone (dood.al)\n",
      "        357 points by errozero 9 hours ago  | hide | 60 comments              \n",
      "      \n",
      "                \n",
      "      4.      Consumption of a dark roast coffee blend reduces DNA damage in humans (nih.gov)\n",
      "        155 points by blopeur 5 hours ago  | hide | 94 comments              \n",
      "      \n",
      "                \n",
      "      5.      An Almost-Secret Algorithm Researchers Used to Break Thousands of RSA Keys (algorithmsoup.wordpress.com)\n",
      "        211 points by williamkuszmaul 7 hours ago  | hide | 53 comments              \n",
      "      \n",
      "                \n",
      "      6.      More Data Is Not Better and Machine Learning Is a Grind (ncsu.edu)\n",
      "        56 points by sonabinu 3 hours ago  | hide | 5 comments              \n",
      "      \n",
      "                \n",
      "      7.      Ahead of IPO, Airbnb achieves profitability for second year in a row (techcrunch.com)\n",
      "        165 points by pseudolus 7 hours ago  | hide | 137 comments              \n",
      "      \n",
      "                \n",
      "      8.      Show HN: Crowdsourced freelance contract template, written in plain language (plainfreelancecontract.com)\n",
      "        229 points by jackm 11 hours ago  | hide | 56 comments              \n",
      "      \n",
      "                \n",
      "      9.      The Next American Car Recession Has Already Started (bloomberg.com)\n",
      "        31 points by jbredeche 4 hours ago  | hide | 34 comments              \n",
      "      \n",
      "                \n",
      "      10.      DIB Guide: Detecting Agile BS (2018) [pdf] (defense.gov)\n",
      "        348 points by nfrankel 14 hours ago  | hide | 120 comments              \n",
      "      \n",
      "                \n",
      "      11.      Performance Tuning for .NET Core (reubenbond.github.io)\n",
      "        124 points by benaadams 8 hours ago  | hide | 59 comments              \n",
      "      \n",
      "                \n",
      "      12.      Some Lisp books (2012) (fogus.me)\n",
      "        152 points by deepaksurti 10 hours ago  | hide | 17 comments              \n",
      "      \n",
      "                \n",
      "      13.      Thieves of Experience: How Google and Facebook Corrupted Capitalism (lareviewofbooks.org)\n",
      "        130 points by exejeezus 6 hours ago  | hide | 98 comments              \n",
      "      \n",
      "                \n",
      "      14.      Fedora, UUIDs, and user tracking (lwn.net)\n",
      "        92 points by tlburke 7 hours ago  | hide | 48 comments              \n",
      "      \n",
      "                \n",
      "      15.      On Infrastructure at Scale: A Cascading Failure of Distributed Systems (medium.com)\n",
      "        8 points by aberoham 1 hour ago  | hide | discuss              \n",
      "      \n",
      "                \n",
      "      16.      Snap CFO Tim Stone Is Resigning (techcrunch.com)\n",
      "        68 points by cribbles 3 hours ago  | hide | 38 comments              \n",
      "      \n",
      "                \n",
      "      17.      President Signs Government-Wide Open Data Bill (datacoalition.org)\n",
      "        203 points by rmason 6 hours ago  | hide | 86 comments              \n",
      "      \n",
      "                \n",
      "      18.      Brexit Deal Fails in Parliament (nytimes.com)\n",
      "        510 points by johnny313 6 hours ago  | hide | 683 comments              \n",
      "      \n",
      "                \n",
      "      19.      GBatteries (YC W14) let you charge your car as quickly as visiting the pump (techcrunch.com)\n",
      "        38 points by mikek 5 hours ago  | hide | 57 comments              \n",
      "      \n",
      "                \n",
      "      20.      New Method for Compressing Neural Networks Better Preserves Accuracy (amazon.com)\n",
      "        86 points by georgecarlyle76 10 hours ago  | hide | 19 comments              \n",
      "      \n",
      "                \n",
      "      21.      Intrinsic Value of a SaaS Business: A 20 Year DCF (selectsoftwarereviews.com)\n",
      "        61 points by pstrazzulla 7 hours ago  | hide | 23 comments              \n",
      "      \n",
      "                \n",
      "      22.      What software will you trust when you get senile? (lifepim.com)\n",
      "        115 points by acutesoftware 12 hours ago  | hide | 103 comments              \n",
      "      \n",
      "                \n",
      "      23.      OpenEdge – Extend cloud computing, data and service to edge devices (github.com)\n",
      "        70 points by blopeur 9 hours ago  | hide | 9 comments              \n",
      "      \n",
      "                \n",
      "      24.      De-Suckafying Apple’s Butterfly Keyboard (sdbr.net)\n",
      "        36 points by x0054 3 hours ago  | hide | 53 comments              \n",
      "      \n",
      "                \n",
      "      25.      Mux is hiring a Site Reliability Engineer to build cloud video infrastructure (workable.com)\n",
      "        2 hours ago | hide      \n",
      "      \n",
      "                \n",
      "      26.      Simplest possible smooth contouring algorithm (wordsandbuttons.online)\n",
      "        35 points by okaleniuk 6 hours ago  | hide | 4 comments              \n",
      "      \n",
      "                \n",
      "      27.      Canary analysis: Lessons learned and best practices from Google and Waze (cloud.google.com)\n",
      "        80 points by Daviey 9 hours ago  | hide | 12 comments              \n",
      "      \n",
      "                \n",
      "      28.      Security Alert: Ethereum Constantinople Postponement (ethereum.org)\n",
      "        44 points by Jhsto 4 hours ago  | hide | 16 comments              \n",
      "      \n",
      "                \n",
      "      29.      Climate Concerns Are Pushing Oil Majors to Look Beyond Fossil Fuels (scientificamerican.com)\n",
      "        75 points by oblib 6 hours ago  | hide | 42 comments              \n",
      "      \n",
      "                \n",
      "      30.      Deep packet inspection is dead, and here's why (2017) (ias.edu)\n",
      "        137 points by ogig 14 hours ago  | hide | 108 comments              \n",
      "      \n",
      "            More\n",
      "  \n",
      "\n",
      "Guidelines\n",
      "        | FAQ\n",
      "        | Support\n",
      "        | API\n",
      "        | Security\n",
      "        | Lists\n",
      "        | Bookmarklet\n",
      "        | Legal\n",
      "        | Apply to YC\n",
      "        | ContactSearch:\n",
      "          \n",
      "            \n",
      "      \n",
      "  \n",
      "\n"
     ]
    }
   ],
   "source": [
    "from bs4 import BeautifulSoup\n",
    "\n",
    "# Remove HTML tags using Beautiful Soup library\n",
    "soup = BeautifulSoup(r.text, \"html5lib\")\n",
    "print(soup.get_text())"
   ]
  },
  {
   "cell_type": "code",
   "execution_count": 7,
   "metadata": {
    "scrolled": true
   },
   "outputs": [
    {
     "data": {
      "text/plain": [
       "<tr class=\"athing\" id=\"18912656\">\n",
       "      <td align=\"right\" class=\"title\" valign=\"top\"><span class=\"rank\">1.</span></td>      <td class=\"votelinks\" valign=\"top\"><center><a href=\"vote?id=18912656&amp;how=up&amp;goto=news\" id=\"up_18912656\"><div class=\"votearrow\" title=\"upvote\"></div></a></center></td><td class=\"title\"><a class=\"storylink\" href=\"https://spreadprivacy.com/duckduckgo-apple-mapkit-js/\">DuckDuckGo will use Apple Maps</a><span class=\"sitebit comhead\"> (<a href=\"from?site=spreadprivacy.com\"><span class=\"sitestr\">spreadprivacy.com</span></a>)</span></td></tr>"
      ]
     },
     "execution_count": 7,
     "metadata": {},
     "output_type": "execute_result"
    }
   ],
   "source": [
    "# Find all articles\n",
    "summaries = soup.find_all(\"tr\", class_=\"athing\")\n",
    "summaries[0]"
   ]
  },
  {
   "cell_type": "code",
   "execution_count": 8,
   "metadata": {},
   "outputs": [
    {
     "data": {
      "text/plain": [
       "'DuckDuckGo will use Apple Maps'"
      ]
     },
     "execution_count": 8,
     "metadata": {},
     "output_type": "execute_result"
    }
   ],
   "source": [
    "# Extract title\n",
    "summaries[0].find(\"a\", class_=\"storylink\").get_text().strip()"
   ]
  },
  {
   "cell_type": "code",
   "execution_count": 9,
   "metadata": {},
   "outputs": [
    {
     "name": "stdout",
     "output_type": "stream",
     "text": [
      "30 Article summaries found. Sample:\n",
      "DuckDuckGo will use Apple Maps\n"
     ]
    }
   ],
   "source": [
    "# Find all articles, extract titles\n",
    "articles = []\n",
    "summaries = soup.find_all(\"tr\", class_=\"athing\")\n",
    "for summary in summaries:\n",
    "    title = summary.find(\"a\", class_=\"storylink\").get_text().strip()\n",
    "    articles.append((title))\n",
    "\n",
    "print(len(articles), \"Article summaries found. Sample:\")\n",
    "print(articles[0])"
   ]
  },
  {
   "cell_type": "markdown",
   "metadata": {
    "collapsed": true
   },
   "source": [
    "## Normalization"
   ]
  },
  {
   "cell_type": "markdown",
   "metadata": {},
   "source": [
    "### Case Normalization"
   ]
  },
  {
   "cell_type": "code",
   "execution_count": 10,
   "metadata": {},
   "outputs": [
    {
     "name": "stdout",
     "output_type": "stream",
     "text": [
      "The first time you see The Second Renaissance it may look boring. Look at it at least twice and definitely watch part 2. It will change your view of the matrix. Are the human people the ones who started the war ? Is AI a bad thing ?\n"
     ]
    }
   ],
   "source": [
    "# Sample text\n",
    "text = \"The first time you see The Second Renaissance it may look boring. Look at it at least twice and definitely watch part 2. It will change your view of the matrix. Are the human people the ones who started the war ? Is AI a bad thing ?\"\n",
    "print(text)"
   ]
  },
  {
   "cell_type": "code",
   "execution_count": 11,
   "metadata": {},
   "outputs": [
    {
     "name": "stdout",
     "output_type": "stream",
     "text": [
      "the first time you see the second renaissance it may look boring. look at it at least twice and definitely watch part 2. it will change your view of the matrix. are the human people the ones who started the war ? is ai a bad thing ?\n"
     ]
    }
   ],
   "source": [
    "# Convert to lowercase\n",
    "text = text.lower() \n",
    "print(text)"
   ]
  },
  {
   "cell_type": "markdown",
   "metadata": {},
   "source": [
    "### Punctuation Removal"
   ]
  },
  {
   "cell_type": "code",
   "execution_count": 12,
   "metadata": {},
   "outputs": [
    {
     "name": "stdout",
     "output_type": "stream",
     "text": [
      "the first time you see the second renaissance it may look boring  look at it at least twice and definitely watch part 2  it will change your view of the matrix  are the human people the ones who started the war   is ai a bad thing  \n"
     ]
    }
   ],
   "source": [
    "import re\n",
    "\n",
    "# Remove punctuation characters\n",
    "text = re.sub(r\"[^a-zA-Z0-9]\", \" \", text) \n",
    "print(text)"
   ]
  },
  {
   "cell_type": "markdown",
   "metadata": {},
   "source": [
    "## Tokenization"
   ]
  },
  {
   "cell_type": "code",
   "execution_count": 13,
   "metadata": {},
   "outputs": [
    {
     "name": "stdout",
     "output_type": "stream",
     "text": [
      "['the', 'first', 'time', 'you', 'see', 'the', 'second', 'renaissance', 'it', 'may', 'look', 'boring', 'look', 'at', 'it', 'at', 'least', 'twice', 'and', 'definitely', 'watch', 'part', '2', 'it', 'will', 'change', 'your', 'view', 'of', 'the', 'matrix', 'are', 'the', 'human', 'people', 'the', 'ones', 'who', 'started', 'the', 'war', 'is', 'ai', 'a', 'bad', 'thing']\n"
     ]
    }
   ],
   "source": [
    "# Split text into tokens (words)\n",
    "words = text.split()\n",
    "print(words)"
   ]
  },
  {
   "cell_type": "markdown",
   "metadata": {},
   "source": [
    "### NLTK: Natural Language ToolKit"
   ]
  },
  {
   "cell_type": "code",
   "execution_count": 14,
   "metadata": {},
   "outputs": [],
   "source": [
    "import os\n",
    "import nltk\n",
    "nltk.data.path.append(os.path.join(os.getcwd(), \"nltk_data\"))"
   ]
  },
  {
   "cell_type": "code",
   "execution_count": 15,
   "metadata": {},
   "outputs": [
    {
     "name": "stdout",
     "output_type": "stream",
     "text": [
      "Dr. Smith graduated from the University of Washington. He later started an analytics firm called Lux, which catered to enterprise customers.\n"
     ]
    }
   ],
   "source": [
    "# Another sample text\n",
    "text = \"Dr. Smith graduated from the University of Washington. He later started an analytics firm called Lux, which catered to enterprise customers.\"\n",
    "print(text)"
   ]
  },
  {
   "cell_type": "code",
   "execution_count": 16,
   "metadata": {},
   "outputs": [
    {
     "name": "stdout",
     "output_type": "stream",
     "text": [
      "['Dr.', 'Smith', 'graduated', 'from', 'the', 'University', 'of', 'Washington', '.', 'He', 'later', 'started', 'an', 'analytics', 'firm', 'called', 'Lux', ',', 'which', 'catered', 'to', 'enterprise', 'customers', '.']\n"
     ]
    }
   ],
   "source": [
    "from nltk.tokenize import word_tokenize\n",
    "\n",
    "# Split text into words using NLTK\n",
    "words = word_tokenize(text)\n",
    "print(words)"
   ]
  },
  {
   "cell_type": "code",
   "execution_count": 17,
   "metadata": {},
   "outputs": [
    {
     "name": "stdout",
     "output_type": "stream",
     "text": [
      "['Dr. Smith graduated from the University of Washington.', 'He later started an analytics firm called Lux, which catered to enterprise customers.']\n"
     ]
    }
   ],
   "source": [
    "from nltk.tokenize import sent_tokenize\n",
    "\n",
    "# Split text into sentences\n",
    "sentences = sent_tokenize(text)\n",
    "print(sentences)"
   ]
  },
  {
   "cell_type": "code",
   "execution_count": 18,
   "metadata": {},
   "outputs": [
    {
     "name": "stdout",
     "output_type": "stream",
     "text": [
      "['i', 'me', 'my', 'myself', 'we', 'our', 'ours', 'ourselves', 'you', \"you're\", \"you've\", \"you'll\", \"you'd\", 'your', 'yours', 'yourself', 'yourselves', 'he', 'him', 'his', 'himself', 'she', \"she's\", 'her', 'hers', 'herself', 'it', \"it's\", 'its', 'itself', 'they', 'them', 'their', 'theirs', 'themselves', 'what', 'which', 'who', 'whom', 'this', 'that', \"that'll\", 'these', 'those', 'am', 'is', 'are', 'was', 'were', 'be', 'been', 'being', 'have', 'has', 'had', 'having', 'do', 'does', 'did', 'doing', 'a', 'an', 'the', 'and', 'but', 'if', 'or', 'because', 'as', 'until', 'while', 'of', 'at', 'by', 'for', 'with', 'about', 'against', 'between', 'into', 'through', 'during', 'before', 'after', 'above', 'below', 'to', 'from', 'up', 'down', 'in', 'out', 'on', 'off', 'over', 'under', 'again', 'further', 'then', 'once', 'here', 'there', 'when', 'where', 'why', 'how', 'all', 'any', 'both', 'each', 'few', 'more', 'most', 'other', 'some', 'such', 'no', 'nor', 'not', 'only', 'own', 'same', 'so', 'than', 'too', 'very', 's', 't', 'can', 'will', 'just', 'don', \"don't\", 'should', \"should've\", 'now', 'd', 'll', 'm', 'o', 're', 've', 'y', 'ain', 'aren', \"aren't\", 'couldn', \"couldn't\", 'didn', \"didn't\", 'doesn', \"doesn't\", 'hadn', \"hadn't\", 'hasn', \"hasn't\", 'haven', \"haven't\", 'isn', \"isn't\", 'ma', 'mightn', \"mightn't\", 'mustn', \"mustn't\", 'needn', \"needn't\", 'shan', \"shan't\", 'shouldn', \"shouldn't\", 'wasn', \"wasn't\", 'weren', \"weren't\", 'won', \"won't\", 'wouldn', \"wouldn't\"]\n"
     ]
    }
   ],
   "source": [
    "# List stop words\n",
    "from nltk.corpus import stopwords\n",
    "print(stopwords.words(\"english\"))"
   ]
  },
  {
   "cell_type": "code",
   "execution_count": 19,
   "metadata": {},
   "outputs": [
    {
     "name": "stdout",
     "output_type": "stream",
     "text": [
      "['the', 'first', 'time', 'you', 'see', 'the', 'second', 'renaissance', 'it', 'may', 'look', 'boring', 'look', 'at', 'it', 'at', 'least', 'twice', 'and', 'definitely', 'watch', 'part', '2', 'it', 'will', 'change', 'your', 'view', 'of', 'the', 'matrix', 'are', 'the', 'human', 'people', 'the', 'ones', 'who', 'started', 'the', 'war', 'is', 'ai', 'a', 'bad', 'thing']\n"
     ]
    }
   ],
   "source": [
    "# Reset text\n",
    "text = \"The first time you see The Second Renaissance it may look boring. Look at it at least twice and definitely watch part 2. It will change your view of the matrix. Are the human people the ones who started the war ? Is AI a bad thing ?\"\n",
    "\n",
    "# Normalize it\n",
    "text = re.sub(r\"[^a-zA-Z0-9]\", \" \", text.lower())\n",
    "\n",
    "# Tokenize it\n",
    "words = text.split()\n",
    "print(words)"
   ]
  },
  {
   "cell_type": "code",
   "execution_count": 20,
   "metadata": {},
   "outputs": [
    {
     "name": "stdout",
     "output_type": "stream",
     "text": [
      "['first', 'time', 'see', 'second', 'renaissance', 'may', 'look', 'boring', 'look', 'least', 'twice', 'definitely', 'watch', 'part', '2', 'change', 'view', 'matrix', 'human', 'people', 'ones', 'started', 'war', 'ai', 'bad', 'thing']\n"
     ]
    }
   ],
   "source": [
    "# Remove stop words\n",
    "words = [w for w in words if w not in stopwords.words(\"english\")]\n",
    "print(words)"
   ]
  },
  {
   "cell_type": "markdown",
   "metadata": {},
   "source": [
    "### Sentence Parsing"
   ]
  },
  {
   "cell_type": "code",
   "execution_count": 21,
   "metadata": {},
   "outputs": [
    {
     "name": "stdout",
     "output_type": "stream",
     "text": [
      "(S\n",
      "  (NP I)\n",
      "  (VP\n",
      "    (VP (V shot) (NP (Det an) (N elephant)))\n",
      "    (PP (P in) (NP (Det my) (N pajamas)))))\n",
      "(S\n",
      "  (NP I)\n",
      "  (VP\n",
      "    (V shot)\n",
      "    (NP (Det an) (N elephant) (PP (P in) (NP (Det my) (N pajamas))))))\n"
     ]
    }
   ],
   "source": [
    "import nltk\n",
    "\n",
    "# Define a custom grammar\n",
    "my_grammar = nltk.CFG.fromstring(\"\"\"\n",
    "S -> NP VP\n",
    "PP -> P NP\n",
    "NP -> Det N | Det N PP | 'I'\n",
    "VP -> V NP | VP PP\n",
    "Det -> 'an' | 'my'\n",
    "N -> 'elephant' | 'pajamas'\n",
    "V -> 'shot'\n",
    "P -> 'in'\n",
    "\"\"\")\n",
    "parser = nltk.ChartParser(my_grammar)\n",
    "\n",
    "# Parse a sentence\n",
    "sentence = word_tokenize(\"I shot an elephant in my pajamas\")\n",
    "for tree in parser.parse(sentence):\n",
    "    print(tree)"
   ]
  },
  {
   "cell_type": "markdown",
   "metadata": {},
   "source": [
    "## Stemming & Lemmatization\n",
    "\n",
    "### Stemming"
   ]
  },
  {
   "cell_type": "code",
   "execution_count": 22,
   "metadata": {},
   "outputs": [
    {
     "name": "stdout",
     "output_type": "stream",
     "text": [
      "['first', 'time', 'see', 'second', 'renaiss', 'may', 'look', 'bore', 'look', 'least', 'twice', 'definit', 'watch', 'part', '2', 'chang', 'view', 'matrix', 'human', 'peopl', 'one', 'start', 'war', 'ai', 'bad', 'thing']\n"
     ]
    }
   ],
   "source": [
    "from nltk.stem.porter import PorterStemmer\n",
    "\n",
    "# Reduce words to their stems\n",
    "stemmed = [PorterStemmer().stem(w) for w in words]\n",
    "print(stemmed)"
   ]
  },
  {
   "cell_type": "markdown",
   "metadata": {},
   "source": [
    "### Lemmatization"
   ]
  },
  {
   "cell_type": "code",
   "execution_count": 23,
   "metadata": {},
   "outputs": [
    {
     "name": "stdout",
     "output_type": "stream",
     "text": [
      "['first', 'time', 'see', 'second', 'renaissance', 'may', 'look', 'boring', 'look', 'least', 'twice', 'definitely', 'watch', 'part', '2', 'change', 'view', 'matrix', 'human', 'people', 'one', 'started', 'war', 'ai', 'bad', 'thing']\n"
     ]
    }
   ],
   "source": [
    "from nltk.stem.wordnet import WordNetLemmatizer\n",
    "\n",
    "# Reduce words to their root form\n",
    "lemmed = [WordNetLemmatizer().lemmatize(w) for w in words]\n",
    "print(lemmed)"
   ]
  },
  {
   "cell_type": "code",
   "execution_count": 24,
   "metadata": {},
   "outputs": [
    {
     "name": "stdout",
     "output_type": "stream",
     "text": [
      "['first', 'time', 'see', 'second', 'renaissance', 'may', 'look', 'bore', 'look', 'least', 'twice', 'definitely', 'watch', 'part', '2', 'change', 'view', 'matrix', 'human', 'people', 'one', 'start', 'war', 'ai', 'bad', 'thing']\n"
     ]
    }
   ],
   "source": [
    "# Lemmatize verbs by specifying pos\n",
    "lemmed = [WordNetLemmatizer().lemmatize(w, pos='v') for w in lemmed]\n",
    "print(lemmed)"
   ]
  },
  {
   "cell_type": "code",
   "execution_count": null,
   "metadata": {},
   "outputs": [],
   "source": []
  }
 ],
 "metadata": {
  "kernelspec": {
   "display_name": "Python 3",
   "language": "python",
   "name": "python3"
  },
  "language_info": {
   "codemirror_mode": {
    "name": "ipython",
    "version": 3
   },
   "file_extension": ".py",
   "mimetype": "text/x-python",
   "name": "python",
   "nbconvert_exporter": "python",
   "pygments_lexer": "ipython3",
   "version": "3.6.3"
  }
 },
 "nbformat": 4,
 "nbformat_minor": 2
}
